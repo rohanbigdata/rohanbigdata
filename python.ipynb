{
  "nbformat": 4,
  "nbformat_minor": 0,
  "metadata": {
    "colab": {
      "provenance": [],
      "authorship_tag": "ABX9TyOJvFNCw0pednsQI0LjJX5P",
      "include_colab_link": true
    },
    "kernelspec": {
      "name": "python3",
      "display_name": "Python 3"
    },
    "language_info": {
      "name": "python"
    }
  },
  "cells": [
    {
      "cell_type": "markdown",
      "metadata": {
        "id": "view-in-github",
        "colab_type": "text"
      },
      "source": [
        "<a href=\"https://colab.research.google.com/github/rohanbigdata/rohanbigdata/blob/main/python.ipynb\" target=\"_parent\"><img src=\"https://colab.research.google.com/assets/colab-badge.svg\" alt=\"Open In Colab\"/></a>"
      ]
    },
    {
      "cell_type": "code",
      "execution_count": null,
      "metadata": {
        "colab": {
          "base_uri": "https://localhost:8080/"
        },
        "id": "1iRoB9-W1VdC",
        "outputId": "8b2450f9-5869-4ccf-c2b2-4e93f413f60c"
      },
      "outputs": [
        {
          "output_type": "stream",
          "name": "stdout",
          "text": [
            "False\n"
          ]
        }
      ],
      "source": [
        "def sorted_check(input_list):\n",
        "  k=0\n",
        "  for i in range (len(input_list)-1):\n",
        "    if(input_list[i]<=input_list[i+1]):\n",
        "      pass\n",
        "    else:\n",
        "      k=1\n",
        "      break\n",
        "  return k==0\n",
        "print(sorted_check([1,3,2,4,5]))\n"
      ]
    },
    {
      "cell_type": "code",
      "source": [
        "# Converting an Integer into Decimals\n",
        "import decimal\n",
        "integer = 11\n",
        "print(decimal.Decimal(integer))\n",
        "print(type(decimal.Decimal(integer)))"
      ],
      "metadata": {
        "colab": {
          "base_uri": "https://localhost:8080/"
        },
        "id": "RkePYaDu4Knn",
        "outputId": "49c84eb1-c4a1-4d56-e2d1-fc1ea5f7f243"
      },
      "execution_count": null,
      "outputs": [
        {
          "output_type": "stream",
          "name": "stdout",
          "text": [
            "11\n",
            "<class 'decimal.Decimal'>\n"
          ]
        }
      ]
    },
    {
      "cell_type": "code",
      "source": [
        "# Converting an Integer into Decimals\n",
        "integer = 10\n",
        "decimal_number = float(integer)\n",
        "print(decimal_number)\n",
        "print(type(decimal_number))"
      ],
      "metadata": {
        "colab": {
          "base_uri": "https://localhost:8080/"
        },
        "id": "0LQidDG69P57",
        "outputId": "5830ccfa-56c7-46ce-a211-24539875c1d4"
      },
      "execution_count": null,
      "outputs": [
        {
          "output_type": "stream",
          "name": "stdout",
          "text": [
            "10.0\n",
            "<class 'float'>\n"
          ]
        }
      ]
    },
    {
      "cell_type": "code",
      "source": [
        "#2. Converting an String of Integers into Decimals\n",
        "import decimal\n",
        "string = '12345'\n",
        "print(decimal.Decimal(string))\n",
        "print(type(decimal.Decimal(string)))\n"
      ],
      "metadata": {
        "id": "Ka5zu6mm-eF_"
      },
      "execution_count": null,
      "outputs": []
    },
    {
      "cell_type": "code",
      "source": [
        "string = '12345'\n",
        "decimal_number = float(string)\n",
        "print(decimal_number)\n",
        "print(type(decimal_number))"
      ],
      "metadata": {
        "colab": {
          "base_uri": "https://localhost:8080/"
        },
        "id": "O2yjBhaT_mjN",
        "outputId": "ad920462-ced3-4ff3-c23a-e952590788ca"
      },
      "execution_count": null,
      "outputs": [
        {
          "output_type": "stream",
          "name": "stdout",
          "text": [
            "12345.0\n",
            "<class 'float'>\n"
          ]
        }
      ]
    },
    {
      "cell_type": "code",
      "source": [
        "#3. Reversing a String using an Extended Slicing Technique\n",
        "\n",
        "string = \"Python Programming\"\n",
        "print(string[::-1])\n",
        "\n",
        "# This line prints a reversed version of the string string. Let's break down string[::-1]:\n",
        "\n",
        "# The first colon : indicates that we're specifying a slicing operation.\n",
        "# The first blank position before the colon means we're not specifying a starting index, so it starts from the beginning of the string.\n",
        "# The second blank position after the colon means we're not specifying an ending index, so it goes up to the end of the string.\n",
        "# The -1 after the second colon indicates the step size. A step size of -1 means we're iterating over the string in reverse.\n",
        "# So, string[::-1] slices the entire string string in reverse order, resulting in the reversed string being printed, which is \"gnimmargorP nohtyP\"\n"
      ],
      "metadata": {
        "colab": {
          "base_uri": "https://localhost:8080/"
        },
        "id": "jQy5AxCTAMjU",
        "outputId": "97574c12-334e-4393-f559-fdf47d957038"
      },
      "execution_count": null,
      "outputs": [
        {
          "output_type": "stream",
          "name": "stdout",
          "text": [
            "gnimmargorP nohtyP\n"
          ]
        }
      ]
    },
    {
      "cell_type": "code",
      "source": [
        "#4. Counting Vowels in a Given Word\n",
        "\n",
        "vowel = ['a', 'e', 'i', 'o', 'u']\n",
        "word = \"programming\"\n",
        "count = 0\n",
        "for character in word:\n",
        "    if character in vowel:\n",
        "        count += 1\n",
        "print(count)\n",
        "\n",
        "\n",
        "# Finally, outside the loop, the total count of vowels found in the word is printed.\n",
        "# So, when you run this code, it will output `3`, which represents the total number of vowels ('o', 'a', 'i') found in the word \"programming\".\n",
        "\n"
      ],
      "metadata": {
        "colab": {
          "base_uri": "https://localhost:8080/"
        },
        "id": "ycvuMC15Cqsp",
        "outputId": "2ff7a4a5-de8c-4bf5-a377-97fd1fa18887"
      },
      "execution_count": null,
      "outputs": [
        {
          "output_type": "stream",
          "name": "stdout",
          "text": [
            "3\n"
          ]
        }
      ]
    },
    {
      "cell_type": "code",
      "source": [
        "#5. Counting Consonants in a Given Word\n",
        "\n",
        "vowel = ['a','e','i','o','u']\n",
        "word = \"programming\"\n",
        "count = 0\n",
        "for letters in word:\n",
        "  if letters not in vowel:\n",
        "      count +=1\n",
        "print(count)\n"
      ],
      "metadata": {
        "colab": {
          "base_uri": "https://localhost:8080/"
        },
        "id": "HpVgzUUGE-A9",
        "outputId": "855778c6-c6ba-474f-e4b3-62504fab5b40"
      },
      "execution_count": null,
      "outputs": [
        {
          "output_type": "stream",
          "name": "stdout",
          "text": [
            "8\n"
          ]
        }
      ]
    },
    {
      "cell_type": "code",
      "source": [
        "#6. Counting the Number of Occurances of a Character in a String\n",
        "\n",
        "word = \"pythonproggramming\"\n",
        "character = \"p\"\n",
        "count = 0\n",
        "for letter in word:\n",
        "  if letter == character:\n",
        "    count += 1\n",
        "\n",
        "print(count)"
      ],
      "metadata": {
        "colab": {
          "base_uri": "https://localhost:8080/"
        },
        "id": "yBu-m4q7F8jw",
        "outputId": "da17f0f7-8a83-4c75-9561-8b1a87918fc3"
      },
      "execution_count": null,
      "outputs": [
        {
          "output_type": "stream",
          "name": "stdout",
          "text": [
            "2\n"
          ]
        }
      ]
    },
    {
      "cell_type": "code",
      "source": [
        "#7. Writing Fibonacci Series\n",
        "\n",
        "fib = [0,1]\n",
        "# Range starts from 0 by default\n",
        "for i in range(6):\n",
        "    fib.append(fib[-1] + fib[-2])\n",
        "\n",
        "print(fib)\n",
        "\n",
        "# Converting the list of integers to string\n",
        "print(', '.join(str(e) for e in fib))\n",
        "\n"
      ],
      "metadata": {
        "colab": {
          "base_uri": "https://localhost:8080/"
        },
        "id": "0VNcGdNNHNhI",
        "outputId": "d1f9cd59-38f4-4b5d-d9c3-028de5b1fc52"
      },
      "execution_count": null,
      "outputs": [
        {
          "output_type": "stream",
          "name": "stdout",
          "text": [
            "[0, 1, 1, 2, 3, 5, 8, 13]\n",
            "0, 1, 1, 2, 3, 5, 8, 13\n"
          ]
        }
      ]
    },
    {
      "cell_type": "code",
      "source": [
        "#8. Finding the Maximum Number in a List\n",
        "\n",
        "numberList = [15,85,35,89,125]\n",
        "\n",
        "maxNum = numberList[0]\n",
        "for num in numberList:\n",
        "  if maxNum < num:\n",
        "    maxNum = num\n",
        "\n",
        "print(maxNum)"
      ],
      "metadata": {
        "colab": {
          "base_uri": "https://localhost:8080/"
        },
        "id": "bvUyiJJHKc6N",
        "outputId": "dfccc392-9476-43fa-f216-4c5f4ed7e520"
      },
      "execution_count": null,
      "outputs": [
        {
          "output_type": "stream",
          "name": "stdout",
          "text": [
            "125\n"
          ]
        }
      ]
    },
    {
      "cell_type": "code",
      "source": [
        "#9. Finding the Minimum Number in a List\n",
        "numberList = [15, 85, 35, 89, 125, 2]\n",
        "\n",
        "minNum = numberList[0]\n",
        "for num in numberList:\n",
        "  if minNum > num:\n",
        "    minNum = num\n",
        "\n",
        "print(minNum)\n",
        "\n",
        "# Iteration 1: num = 15\n",
        "# Since minNum (which is 15) is not greater than 15, the condition if minNum > num is false. So, we don't update minNum.\n",
        "\n",
        "# Iteration 2: num = 85\n",
        "# Since minNum (which is 15) is less than 85, the condition if minNum > num is false. So, we don't update minNum.\n",
        "\n",
        "# Iteration 3: num = 35\n",
        "# Since minNum (which is still 15) is less than 35, the condition if minNum > num is false. So, we don't update minNum.\n",
        "\n",
        "# Iteration 4: num = 89\n",
        "# Since minNum (which is still 15) is less than 89, the condition if minNum > num is false. So, we don't update minNum.\n",
        "\n",
        "# Iteration 5: num = 125\n",
        "# Since minNum (which is still 15) is less than 125, the condition if minNum > num is false. So, we don't update minNum.\n",
        "\n",
        "# Iteration 6: num = 2\n",
        "# Since minNum (which is still 15) is greater than 2, the condition if minNum > num is true. So, we update minNum to be equal to 2."
      ],
      "metadata": {
        "colab": {
          "base_uri": "https://localhost:8080/"
        },
        "id": "ghbQk13sLYtz",
        "outputId": "4a424471-b2b6-4216-84ab-a41a286b27d3"
      },
      "execution_count": null,
      "outputs": [
        {
          "output_type": "stream",
          "name": "stdout",
          "text": [
            "2\n"
          ]
        },
        {
          "output_type": "execute_result",
          "data": {
            "text/plain": [
              "False"
            ]
          },
          "metadata": {},
          "execution_count": 42
        }
      ]
    },
    {
      "cell_type": "code",
      "source": [
        "#10. Finding the Middle Element in a List\n",
        "\n",
        "numList = [1,2,3,4,5]\n",
        "midElemnt = int(len(numList)/2)\n",
        "\n",
        "print(numList[midElemnt])"
      ],
      "metadata": {
        "colab": {
          "base_uri": "https://localhost:8080/"
        },
        "id": "o3A1B6ktSFQ0",
        "outputId": "efac6c3e-068b-47fe-e8ca-95010832118b"
      },
      "execution_count": null,
      "outputs": [
        {
          "output_type": "stream",
          "name": "stdout",
          "text": [
            "3\n"
          ]
        }
      ]
    },
    {
      "cell_type": "code",
      "source": [
        "#11. Converting a List into a String\n",
        "lst = [\"P\", \"Y\", \"T\", \"H\", \"O\", \"N\"]\n",
        "string = ''.join(lst)\n",
        "\n",
        "print(string)\n",
        "print(type(string))\n"
      ],
      "metadata": {
        "colab": {
          "base_uri": "https://localhost:8080/"
        },
        "id": "0zF4AUwi9jrp",
        "outputId": "59d7790f-dbda-43d6-93ba-b88ff85d33b3"
      },
      "execution_count": null,
      "outputs": [
        {
          "output_type": "stream",
          "name": "stdout",
          "text": [
            "PYTHON\n",
            "<class 'str'>\n"
          ]
        }
      ]
    },
    {
      "cell_type": "code",
      "source": [
        "#12. Adding Two List Elements Together\n",
        "lst1 = [1, 2, 3]\n",
        "lst2 = [4, 5, 6]\n",
        "\n",
        "res_lst = []\n",
        "for i in range(0, len(lst1)):\n",
        "    res_lst.append(lst1[i] + lst2[i])\n",
        "print(res_lst)\n"
      ],
      "metadata": {
        "colab": {
          "base_uri": "https://localhost:8080/"
        },
        "id": "fgw_OBdx9yRW",
        "outputId": "73cd29b5-9b6d-4cb1-e021-8d04979a8ce0"
      },
      "execution_count": null,
      "outputs": [
        {
          "output_type": "stream",
          "name": "stdout",
          "text": [
            "[5, 7, 9]\n"
          ]
        }
      ]
    },
    {
      "cell_type": "code",
      "source": [
        "#13. Comparing Two Strings for Anagrams\n",
        "\n",
        "str1 = \"Listen\"\n",
        "str2 = \"Silent\"\n",
        "\n",
        "str1 = list(str1.upper())\n",
        "str2 = list(str2.upper())\n",
        "str1.sort(), str2.sort()\n",
        "\n",
        "if(str1 == str2):\n",
        "    print(\"True\")\n",
        "else:\n",
        "    print(\"False\")\n",
        "\n"
      ],
      "metadata": {
        "colab": {
          "base_uri": "https://localhost:8080/"
        },
        "id": "Z16IhQGk-HN8",
        "outputId": "a15289ef-2bba-4488-f169-5651bfbcad34"
      },
      "execution_count": null,
      "outputs": [
        {
          "output_type": "stream",
          "name": "stdout",
          "text": [
            "True\n"
          ]
        }
      ]
    },
    {
      "cell_type": "code",
      "source": [
        "#14. Checking for Palindrome Using Extended Slicing Technique\n",
        "def is_palindrome(s):\n",
        "    # Convert the string to lowercase and remove spaces\n",
        "    s = s.lower().replace(\" \", \"\")\n",
        "    # Check if the string is equal to its reverse\n",
        "    return s == s[::-1]\n",
        "\n",
        "# Test cases\n",
        "print(is_palindrome(\"radar\"))  # True\n",
        "print(is_palindrome(\"level\"))  # True\n",
        "print(is_palindrome(\"hello\"))  # False\n"
      ],
      "metadata": {
        "colab": {
          "base_uri": "https://localhost:8080/"
        },
        "id": "6B-_vNloSGea",
        "outputId": "e0c0cbb9-18a5-40f8-8690-cb2ae301c828"
      },
      "execution_count": null,
      "outputs": [
        {
          "output_type": "stream",
          "name": "stdout",
          "text": [
            "True\n",
            "True\n",
            "False\n"
          ]
        }
      ]
    },
    {
      "cell_type": "code",
      "source": [
        "#14. Checking for Palindrome Using Extended Slicing Technique\n",
        "\n",
        "str1 = \"Kayak\".lower()\n",
        "str2 = \"kayak\".lower()\n",
        "\n",
        "if(str1 == str2[::-1]):\n",
        "    print(\"True\")\n",
        "else:\n",
        "    print(\"False\")\n"
      ],
      "metadata": {
        "colab": {
          "base_uri": "https://localhost:8080/"
        },
        "id": "cLEJgjntiFkQ",
        "outputId": "223ed545-2997-4f8e-8135-c8acdd86020f"
      },
      "execution_count": null,
      "outputs": [
        {
          "output_type": "stream",
          "name": "stdout",
          "text": [
            "True\n"
          ]
        }
      ]
    },
    {
      "cell_type": "code",
      "source": [
        "#15. Counting the White Spaces in a String\n",
        "\n",
        "string = \"P r ogramm in g \"\n",
        "print(string.count(' '))\n"
      ],
      "metadata": {
        "colab": {
          "base_uri": "https://localhost:8080/"
        },
        "id": "n46YSj6TkPF4",
        "outputId": "2c53de28-f0e5-4b5a-c475-2f4de90cc051"
      },
      "execution_count": null,
      "outputs": [
        {
          "output_type": "stream",
          "name": "stdout",
          "text": [
            "5\n"
          ]
        }
      ]
    },
    {
      "cell_type": "code",
      "source": [
        "#16. Counting Digits, Letters, and Spaces in a String\n",
        "\n",
        "# Importing Regular Expressions Library\n",
        "import re\n",
        "\n",
        "name = 'Python is 1'\n",
        "\n",
        "digitCount = re.sub(\"[^0-9]\", \"\", name)\n",
        "letterCount = re.sub(\"[^a-zA-Z]\", \"\", name)\n",
        "spaceCount = re.findall(\"[ \\n]\", name)\n",
        "\n",
        "\n",
        "print(len(digitCount))\n",
        "print(len(letterCount))\n",
        "print(len(spaceCount))\n"
      ],
      "metadata": {
        "colab": {
          "base_uri": "https://localhost:8080/"
        },
        "id": "XLUxYqdZkRMs",
        "outputId": "1b30d558-4fe1-4f93-bf9c-e93009e9152d"
      },
      "execution_count": null,
      "outputs": [
        {
          "output_type": "stream",
          "name": "stdout",
          "text": [
            "1\n",
            "8\n",
            "1\n",
            "8\n",
            "2\n"
          ]
        }
      ]
    },
    {
      "cell_type": "code",
      "source": [
        "#17. Counting Special Characters in a String\n",
        "\n",
        "# Importing Regular Expressions Library\n",
        "import re\n",
        "spChar = \"!@#$%^&*()\"\n",
        "\n",
        "count = re.sub('[\\w]+', '', spChar)\n",
        "print(len(count))\n"
      ],
      "metadata": {
        "colab": {
          "base_uri": "https://localhost:8080/"
        },
        "id": "z-mJBqRF-haM",
        "outputId": "51fc5b8e-519a-4455-8f39-1d1343d5c9ff"
      },
      "execution_count": null,
      "outputs": [
        {
          "output_type": "stream",
          "name": "stdout",
          "text": [
            "10\n"
          ]
        }
      ]
    },
    {
      "cell_type": "code",
      "source": [
        "#18. Removing All Whitespace in a String\n",
        "\n",
        "import re\n",
        "\n",
        "string = \"C O D E\"\n",
        "spaces = re.compile(r'\\s+')\n",
        "result = re.sub(spaces, '', string)\n",
        "print(result)\n",
        "\n"
      ],
      "metadata": {
        "colab": {
          "base_uri": "https://localhost:8080/"
        },
        "id": "l8WpLurQ-2lu",
        "outputId": "ddb25e05-86ee-4a15-f3a9-27699ee553e9"
      },
      "execution_count": null,
      "outputs": [
        {
          "output_type": "stream",
          "name": "stdout",
          "text": [
            "CODE\n"
          ]
        }
      ]
    },
    {
      "cell_type": "code",
      "source": [
        "#19. Building a Pyramid in Python\n",
        "\n",
        "floors = 3\n",
        "h = 2*floors-1\n",
        "for i in range(1, 2*floors, 2):\n",
        "    print('{:^{}}'.format('*'*i, h))\n"
      ],
      "metadata": {
        "id": "igklniU6wLlm",
        "colab": {
          "base_uri": "https://localhost:8080/"
        },
        "outputId": "9eba96c6-342f-45b6-f69d-223bda4cd457"
      },
      "execution_count": null,
      "outputs": [
        {
          "output_type": "stream",
          "name": "stdout",
          "text": [
            "  *  \n",
            " *** \n",
            "*****\n"
          ]
        }
      ]
    },
    {
      "cell_type": "code",
      "source": [
        "#20. Randomizing the Items of a List in Python\n",
        "\n",
        "from random import shuffle\n",
        "\n",
        "lst = ['Python', 'is', 'Easy']\n",
        "shuffle(lst)\n",
        "print(lst)\n",
        "\n"
      ],
      "metadata": {
        "id": "-obFwT6N_H9Z",
        "outputId": "044a13ca-f835-4ebc-8a57-77ef1968746d",
        "colab": {
          "base_uri": "https://localhost:8080/"
        }
      },
      "execution_count": null,
      "outputs": [
        {
          "output_type": "stream",
          "name": "stdout",
          "text": [
            "['Easy', 'is', 'Python']\n"
          ]
        }
      ]
    },
    {
      "cell_type": "code",
      "source": [
        "### 21. Counting the occurrences of elements in the list\n",
        "days = ['S','M','M','M','F','S']\n",
        "y = set(days)\n",
        "\n",
        "print([[x,days.count(x)] for x in y])"
      ],
      "metadata": {
        "colab": {
          "base_uri": "https://localhost:8080/"
        },
        "id": "LyoPGjiOCbXf",
        "outputId": "6cfa4759-fceb-4e0a-a4ec-e40cff469a3b"
      },
      "execution_count": 12,
      "outputs": [
        {
          "output_type": "stream",
          "name": "stdout",
          "text": [
            "[['F', 1], ['S', 2], ['M', 3]]\n"
          ]
        }
      ]
    },
    {
      "cell_type": "code",
      "source": [
        "## 23. Creating a NumPy Array in Python\n",
        "### NumPy arrays are more flexible then lists in Python.\n",
        "\n",
        "import numpy as np\n",
        "\n",
        "arr = np.array([1, 2, 3, 4, 5])\n",
        "\n",
        "print(arr)\n",
        "print(type(arr))"
      ],
      "metadata": {
        "colab": {
          "base_uri": "https://localhost:8080/"
        },
        "id": "pKdQ7NmkCkEj",
        "outputId": "a7aaee88-b290-440e-e732-2c6f9d654000"
      },
      "execution_count": 14,
      "outputs": [
        {
          "output_type": "stream",
          "name": "stdout",
          "text": [
            "[1 2 3 4 5]\n",
            "<class 'numpy.ndarray'>\n"
          ]
        }
      ]
    },
    {
      "cell_type": "code",
      "source": [
        "## 24. Converting a List into a Set\n",
        "### User can convert list into set by using `<set()>` function.\n",
        "\n",
        "\n",
        "days = ['S','M','T','W','Tr','F','St']\n",
        "ltos = set(days)\n",
        "print(ltos)\n",
        "\n"
      ],
      "metadata": {
        "colab": {
          "base_uri": "https://localhost:8080/"
        },
        "id": "QxNbxEaLCqv4",
        "outputId": "62ae1728-5b24-40e6-f833-270c4b5fe966"
      },
      "execution_count": 15,
      "outputs": [
        {
          "output_type": "stream",
          "name": "stdout",
          "text": [
            "{'Tr', 'S', 'T', 'St', 'W', 'F', 'M'}\n"
          ]
        }
      ]
    },
    {
      "cell_type": "code",
      "source": [
        "## 25. Yield Keyword in Python\n",
        "### The keyword in Python can turn any function into a generator. Yields work like a standard return keyword.\n",
        "\n",
        "def days(index):\n",
        "    day = ['S','M','T','W','Tr','F','St']\n",
        "    yield day[index]\n",
        "    yield day[index+1]\n",
        "\n",
        "res = days(0)\n",
        "print(next(res), next(res))"
      ],
      "metadata": {
        "colab": {
          "base_uri": "https://localhost:8080/"
        },
        "id": "riM_QYpPC48y",
        "outputId": "5c790f50-5a9a-4abd-d438-33e587583746"
      },
      "execution_count": 16,
      "outputs": [
        {
          "output_type": "stream",
          "name": "stdout",
          "text": [
            "S M\n"
          ]
        }
      ]
    },
    {
      "cell_type": "code",
      "source": [
        "# 26.Python program to remove character from string#\n",
        "\n",
        "str =\"python\"\n",
        "ch =\"o\"\n",
        "\n",
        "print(str.replace(ch, \" \"))\n"
      ],
      "metadata": {
        "colab": {
          "base_uri": "https://localhost:8080/"
        },
        "id": "k_id-8eoDeJx",
        "outputId": "ffbe3663-d017-4b45-f05f-aba6da870469"
      },
      "execution_count": 22,
      "outputs": [
        {
          "output_type": "stream",
          "name": "stdout",
          "text": [
            "pyth n\n"
          ]
        }
      ]
    },
    {
      "cell_type": "code",
      "source": [
        "# 27. Python Program to count occurrence of characters in string\n",
        "\n",
        "string = \"pythonn\"\n",
        "char = \"n\"\n",
        "\n",
        "count=0\n",
        "for i in range(len(string)):\n",
        "  if(string[i]==char):\n",
        "    count = count + 1\n",
        "print(count)\n",
        "\n"
      ],
      "metadata": {
        "colab": {
          "base_uri": "https://localhost:8080/"
        },
        "id": "Yq3HUvIoEEeL",
        "outputId": "43b201f1-7622-4c61-9880-c70c7a981093"
      },
      "execution_count": 24,
      "outputs": [
        {
          "output_type": "stream",
          "name": "stdout",
          "text": [
            "2\n"
          ]
        }
      ]
    },
    {
      "cell_type": "code",
      "source": [
        "#28.Python program in to check string is anagrams or not\n",
        "\n",
        "str1 = \"python\"\n",
        "str2 = \"yonthp\"\n",
        "\n",
        "if (sorted(str1) == sorted(str2)):\n",
        "    print(\"Anagrams\")\n",
        "else:\n",
        "    print(\"Not Anagrams\")\n"
      ],
      "metadata": {
        "colab": {
          "base_uri": "https://localhost:8080/"
        },
        "id": "VA1edjdHEIPl",
        "outputId": "e3bf099b-9759-43fc-e6ef-d4cb0e9fb5b3"
      },
      "execution_count": 26,
      "outputs": [
        {
          "output_type": "stream",
          "name": "stdout",
          "text": [
            "Anagrams\n"
          ]
        }
      ]
    },
    {
      "cell_type": "code",
      "source": [],
      "metadata": {
        "id": "cks-Z6kIE46_"
      },
      "execution_count": null,
      "outputs": []
    }
  ]
}